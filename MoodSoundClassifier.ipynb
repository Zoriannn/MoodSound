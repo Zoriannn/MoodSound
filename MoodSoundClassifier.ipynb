{
  "cells": [
    {
      "cell_type": "markdown",
      "source": [
        "Imports"
      ],
      "metadata": {
        "id": "1CSnAiCpngQH"
      }
    },
    {
      "cell_type": "code",
      "execution_count": null,
      "metadata": {
        "id": "Gmo6eqjaEXLe"
      },
      "outputs": [],
      "source": [
        "import numpy as np\n",
        "import pandas as pd\n",
        "import matplotlib.pyplot as plt\n",
        "import seaborn as sns\n",
        "import warnings\n",
        "warnings.filterwarnings('ignore')\n",
        "from sklearn.preprocessing import StandardScaler\n",
        "from sklearn.preprocessing import LabelEncoder\n",
        "from sklearn.model_selection import train_test_split\n",
        "from sklearn.ensemble import RandomForestClassifier\n",
        "from sklearn.metrics import accuracy_score, f1_score, recall_score, precision_score, classification_report\n",
        "import pickle"
      ]
    },
    {
      "cell_type": "markdown",
      "source": [
        "Loading dataset"
      ],
      "metadata": {
        "id": "-G8zGhyyKN7a"
      }
    },
    {
      "cell_type": "code",
      "source": [
        "# Upload data from github\n",
        "!git clone https://github.com/Zoriannn/MoodSound\n",
        "\n",
        "# Load data\n",
        "data = pd.read_csv('./MoodSound/mxmh_survey_results.csv', encoding = 'unicode_escape')\n",
        "data.head()"
      ],
      "metadata": {
        "colab": {
          "base_uri": "https://localhost:8080/",
          "height": 533
        },
        "id": "wJ_mQJ6HnvHz",
        "outputId": "60ade243-1105-43a7-b263-37230b53c35f"
      },
      "execution_count": null,
      "outputs": [
        {
          "output_type": "stream",
          "name": "stdout",
          "text": [
            "Cloning into 'MoodSound'...\n",
            "remote: Enumerating objects: 20, done.\u001b[K\n",
            "remote: Counting objects: 100% (20/20), done.\u001b[K\n",
            "remote: Compressing objects: 100% (14/14), done.\u001b[K\n",
            "remote: Total 20 (delta 2), reused 0 (delta 0), pack-reused 0\u001b[K\n",
            "Receiving objects: 100% (20/20), 26.74 KiB | 5.35 MiB/s, done.\n",
            "Resolving deltas: 100% (2/2), done.\n"
          ]
        },
        {
          "output_type": "execute_result",
          "data": {
            "text/plain": [
              "            Timestamp   Age Primary streaming service  Hours per day  \\\n",
              "0  8/27/2022 19:29:02  18.0                   Spotify            3.0   \n",
              "1  8/27/2022 19:57:31  63.0                   Pandora            1.5   \n",
              "2  8/27/2022 21:28:18  18.0                   Spotify            4.0   \n",
              "3  8/27/2022 21:40:40  61.0             YouTube Music            2.5   \n",
              "4  8/27/2022 21:54:47  18.0                   Spotify            4.0   \n",
              "\n",
              "  While working Instrumentalist Composer         Fav genre Exploratory  \\\n",
              "0           Yes             Yes      Yes             Latin         Yes   \n",
              "1           Yes              No       No              Rock         Yes   \n",
              "2            No              No       No  Video game music          No   \n",
              "3           Yes              No      Yes              Jazz         Yes   \n",
              "4           Yes              No       No               R&B         Yes   \n",
              "\n",
              "  Foreign languages  ...  Frequency [R&B]  Frequency [Rap] Frequency [Rock]  \\\n",
              "0               Yes  ...        Sometimes  Very frequently            Never   \n",
              "1                No  ...        Sometimes           Rarely  Very frequently   \n",
              "2               Yes  ...            Never           Rarely           Rarely   \n",
              "3               Yes  ...        Sometimes            Never            Never   \n",
              "4                No  ...  Very frequently  Very frequently            Never   \n",
              "\n",
              "  Frequency [Video game music] Anxiety Depression Insomnia  OCD Music effects  \\\n",
              "0                    Sometimes     3.0        0.0      1.0  0.0           NaN   \n",
              "1                       Rarely     7.0        2.0      2.0  1.0           NaN   \n",
              "2              Very frequently     7.0        7.0     10.0  2.0     No effect   \n",
              "3                        Never     9.0        7.0      3.0  3.0       Improve   \n",
              "4                       Rarely     7.0        2.0      5.0  9.0       Improve   \n",
              "\n",
              "     Permissions  \n",
              "0  I understand.  \n",
              "1  I understand.  \n",
              "2  I understand.  \n",
              "3  I understand.  \n",
              "4  I understand.  \n",
              "\n",
              "[5 rows x 33 columns]"
            ],
            "text/html": [
              "\n",
              "  <div id=\"df-c5e979ea-a2ec-4736-a604-11f15eee2eff\" class=\"colab-df-container\">\n",
              "    <div>\n",
              "<style scoped>\n",
              "    .dataframe tbody tr th:only-of-type {\n",
              "        vertical-align: middle;\n",
              "    }\n",
              "\n",
              "    .dataframe tbody tr th {\n",
              "        vertical-align: top;\n",
              "    }\n",
              "\n",
              "    .dataframe thead th {\n",
              "        text-align: right;\n",
              "    }\n",
              "</style>\n",
              "<table border=\"1\" class=\"dataframe\">\n",
              "  <thead>\n",
              "    <tr style=\"text-align: right;\">\n",
              "      <th></th>\n",
              "      <th>Timestamp</th>\n",
              "      <th>Age</th>\n",
              "      <th>Primary streaming service</th>\n",
              "      <th>Hours per day</th>\n",
              "      <th>While working</th>\n",
              "      <th>Instrumentalist</th>\n",
              "      <th>Composer</th>\n",
              "      <th>Fav genre</th>\n",
              "      <th>Exploratory</th>\n",
              "      <th>Foreign languages</th>\n",
              "      <th>...</th>\n",
              "      <th>Frequency [R&amp;B]</th>\n",
              "      <th>Frequency [Rap]</th>\n",
              "      <th>Frequency [Rock]</th>\n",
              "      <th>Frequency [Video game music]</th>\n",
              "      <th>Anxiety</th>\n",
              "      <th>Depression</th>\n",
              "      <th>Insomnia</th>\n",
              "      <th>OCD</th>\n",
              "      <th>Music effects</th>\n",
              "      <th>Permissions</th>\n",
              "    </tr>\n",
              "  </thead>\n",
              "  <tbody>\n",
              "    <tr>\n",
              "      <th>0</th>\n",
              "      <td>8/27/2022 19:29:02</td>\n",
              "      <td>18.0</td>\n",
              "      <td>Spotify</td>\n",
              "      <td>3.0</td>\n",
              "      <td>Yes</td>\n",
              "      <td>Yes</td>\n",
              "      <td>Yes</td>\n",
              "      <td>Latin</td>\n",
              "      <td>Yes</td>\n",
              "      <td>Yes</td>\n",
              "      <td>...</td>\n",
              "      <td>Sometimes</td>\n",
              "      <td>Very frequently</td>\n",
              "      <td>Never</td>\n",
              "      <td>Sometimes</td>\n",
              "      <td>3.0</td>\n",
              "      <td>0.0</td>\n",
              "      <td>1.0</td>\n",
              "      <td>0.0</td>\n",
              "      <td>NaN</td>\n",
              "      <td>I understand.</td>\n",
              "    </tr>\n",
              "    <tr>\n",
              "      <th>1</th>\n",
              "      <td>8/27/2022 19:57:31</td>\n",
              "      <td>63.0</td>\n",
              "      <td>Pandora</td>\n",
              "      <td>1.5</td>\n",
              "      <td>Yes</td>\n",
              "      <td>No</td>\n",
              "      <td>No</td>\n",
              "      <td>Rock</td>\n",
              "      <td>Yes</td>\n",
              "      <td>No</td>\n",
              "      <td>...</td>\n",
              "      <td>Sometimes</td>\n",
              "      <td>Rarely</td>\n",
              "      <td>Very frequently</td>\n",
              "      <td>Rarely</td>\n",
              "      <td>7.0</td>\n",
              "      <td>2.0</td>\n",
              "      <td>2.0</td>\n",
              "      <td>1.0</td>\n",
              "      <td>NaN</td>\n",
              "      <td>I understand.</td>\n",
              "    </tr>\n",
              "    <tr>\n",
              "      <th>2</th>\n",
              "      <td>8/27/2022 21:28:18</td>\n",
              "      <td>18.0</td>\n",
              "      <td>Spotify</td>\n",
              "      <td>4.0</td>\n",
              "      <td>No</td>\n",
              "      <td>No</td>\n",
              "      <td>No</td>\n",
              "      <td>Video game music</td>\n",
              "      <td>No</td>\n",
              "      <td>Yes</td>\n",
              "      <td>...</td>\n",
              "      <td>Never</td>\n",
              "      <td>Rarely</td>\n",
              "      <td>Rarely</td>\n",
              "      <td>Very frequently</td>\n",
              "      <td>7.0</td>\n",
              "      <td>7.0</td>\n",
              "      <td>10.0</td>\n",
              "      <td>2.0</td>\n",
              "      <td>No effect</td>\n",
              "      <td>I understand.</td>\n",
              "    </tr>\n",
              "    <tr>\n",
              "      <th>3</th>\n",
              "      <td>8/27/2022 21:40:40</td>\n",
              "      <td>61.0</td>\n",
              "      <td>YouTube Music</td>\n",
              "      <td>2.5</td>\n",
              "      <td>Yes</td>\n",
              "      <td>No</td>\n",
              "      <td>Yes</td>\n",
              "      <td>Jazz</td>\n",
              "      <td>Yes</td>\n",
              "      <td>Yes</td>\n",
              "      <td>...</td>\n",
              "      <td>Sometimes</td>\n",
              "      <td>Never</td>\n",
              "      <td>Never</td>\n",
              "      <td>Never</td>\n",
              "      <td>9.0</td>\n",
              "      <td>7.0</td>\n",
              "      <td>3.0</td>\n",
              "      <td>3.0</td>\n",
              "      <td>Improve</td>\n",
              "      <td>I understand.</td>\n",
              "    </tr>\n",
              "    <tr>\n",
              "      <th>4</th>\n",
              "      <td>8/27/2022 21:54:47</td>\n",
              "      <td>18.0</td>\n",
              "      <td>Spotify</td>\n",
              "      <td>4.0</td>\n",
              "      <td>Yes</td>\n",
              "      <td>No</td>\n",
              "      <td>No</td>\n",
              "      <td>R&amp;B</td>\n",
              "      <td>Yes</td>\n",
              "      <td>No</td>\n",
              "      <td>...</td>\n",
              "      <td>Very frequently</td>\n",
              "      <td>Very frequently</td>\n",
              "      <td>Never</td>\n",
              "      <td>Rarely</td>\n",
              "      <td>7.0</td>\n",
              "      <td>2.0</td>\n",
              "      <td>5.0</td>\n",
              "      <td>9.0</td>\n",
              "      <td>Improve</td>\n",
              "      <td>I understand.</td>\n",
              "    </tr>\n",
              "  </tbody>\n",
              "</table>\n",
              "<p>5 rows × 33 columns</p>\n",
              "</div>\n",
              "    <div class=\"colab-df-buttons\">\n",
              "\n",
              "  <div class=\"colab-df-container\">\n",
              "    <button class=\"colab-df-convert\" onclick=\"convertToInteractive('df-c5e979ea-a2ec-4736-a604-11f15eee2eff')\"\n",
              "            title=\"Convert this dataframe to an interactive table.\"\n",
              "            style=\"display:none;\">\n",
              "\n",
              "  <svg xmlns=\"http://www.w3.org/2000/svg\" height=\"24px\" viewBox=\"0 -960 960 960\">\n",
              "    <path d=\"M120-120v-720h720v720H120Zm60-500h600v-160H180v160Zm220 220h160v-160H400v160Zm0 220h160v-160H400v160ZM180-400h160v-160H180v160Zm440 0h160v-160H620v160ZM180-180h160v-160H180v160Zm440 0h160v-160H620v160Z\"/>\n",
              "  </svg>\n",
              "    </button>\n",
              "\n",
              "  <style>\n",
              "    .colab-df-container {\n",
              "      display:flex;\n",
              "      gap: 12px;\n",
              "    }\n",
              "\n",
              "    .colab-df-convert {\n",
              "      background-color: #E8F0FE;\n",
              "      border: none;\n",
              "      border-radius: 50%;\n",
              "      cursor: pointer;\n",
              "      display: none;\n",
              "      fill: #1967D2;\n",
              "      height: 32px;\n",
              "      padding: 0 0 0 0;\n",
              "      width: 32px;\n",
              "    }\n",
              "\n",
              "    .colab-df-convert:hover {\n",
              "      background-color: #E2EBFA;\n",
              "      box-shadow: 0px 1px 2px rgba(60, 64, 67, 0.3), 0px 1px 3px 1px rgba(60, 64, 67, 0.15);\n",
              "      fill: #174EA6;\n",
              "    }\n",
              "\n",
              "    .colab-df-buttons div {\n",
              "      margin-bottom: 4px;\n",
              "    }\n",
              "\n",
              "    [theme=dark] .colab-df-convert {\n",
              "      background-color: #3B4455;\n",
              "      fill: #D2E3FC;\n",
              "    }\n",
              "\n",
              "    [theme=dark] .colab-df-convert:hover {\n",
              "      background-color: #434B5C;\n",
              "      box-shadow: 0px 1px 3px 1px rgba(0, 0, 0, 0.15);\n",
              "      filter: drop-shadow(0px 1px 2px rgba(0, 0, 0, 0.3));\n",
              "      fill: #FFFFFF;\n",
              "    }\n",
              "  </style>\n",
              "\n",
              "    <script>\n",
              "      const buttonEl =\n",
              "        document.querySelector('#df-c5e979ea-a2ec-4736-a604-11f15eee2eff button.colab-df-convert');\n",
              "      buttonEl.style.display =\n",
              "        google.colab.kernel.accessAllowed ? 'block' : 'none';\n",
              "\n",
              "      async function convertToInteractive(key) {\n",
              "        const element = document.querySelector('#df-c5e979ea-a2ec-4736-a604-11f15eee2eff');\n",
              "        const dataTable =\n",
              "          await google.colab.kernel.invokeFunction('convertToInteractive',\n",
              "                                                    [key], {});\n",
              "        if (!dataTable) return;\n",
              "\n",
              "        const docLinkHtml = 'Like what you see? Visit the ' +\n",
              "          '<a target=\"_blank\" href=https://colab.research.google.com/notebooks/data_table.ipynb>data table notebook</a>'\n",
              "          + ' to learn more about interactive tables.';\n",
              "        element.innerHTML = '';\n",
              "        dataTable['output_type'] = 'display_data';\n",
              "        await google.colab.output.renderOutput(dataTable, element);\n",
              "        const docLink = document.createElement('div');\n",
              "        docLink.innerHTML = docLinkHtml;\n",
              "        element.appendChild(docLink);\n",
              "      }\n",
              "    </script>\n",
              "  </div>\n",
              "\n",
              "\n",
              "<div id=\"df-e82d1937-b199-41d8-8e5a-f7fd04a34b45\">\n",
              "  <button class=\"colab-df-quickchart\" onclick=\"quickchart('df-e82d1937-b199-41d8-8e5a-f7fd04a34b45')\"\n",
              "            title=\"Suggest charts\"\n",
              "            style=\"display:none;\">\n",
              "\n",
              "<svg xmlns=\"http://www.w3.org/2000/svg\" height=\"24px\"viewBox=\"0 0 24 24\"\n",
              "     width=\"24px\">\n",
              "    <g>\n",
              "        <path d=\"M19 3H5c-1.1 0-2 .9-2 2v14c0 1.1.9 2 2 2h14c1.1 0 2-.9 2-2V5c0-1.1-.9-2-2-2zM9 17H7v-7h2v7zm4 0h-2V7h2v10zm4 0h-2v-4h2v4z\"/>\n",
              "    </g>\n",
              "</svg>\n",
              "  </button>\n",
              "\n",
              "<style>\n",
              "  .colab-df-quickchart {\n",
              "      --bg-color: #E8F0FE;\n",
              "      --fill-color: #1967D2;\n",
              "      --hover-bg-color: #E2EBFA;\n",
              "      --hover-fill-color: #174EA6;\n",
              "      --disabled-fill-color: #AAA;\n",
              "      --disabled-bg-color: #DDD;\n",
              "  }\n",
              "\n",
              "  [theme=dark] .colab-df-quickchart {\n",
              "      --bg-color: #3B4455;\n",
              "      --fill-color: #D2E3FC;\n",
              "      --hover-bg-color: #434B5C;\n",
              "      --hover-fill-color: #FFFFFF;\n",
              "      --disabled-bg-color: #3B4455;\n",
              "      --disabled-fill-color: #666;\n",
              "  }\n",
              "\n",
              "  .colab-df-quickchart {\n",
              "    background-color: var(--bg-color);\n",
              "    border: none;\n",
              "    border-radius: 50%;\n",
              "    cursor: pointer;\n",
              "    display: none;\n",
              "    fill: var(--fill-color);\n",
              "    height: 32px;\n",
              "    padding: 0;\n",
              "    width: 32px;\n",
              "  }\n",
              "\n",
              "  .colab-df-quickchart:hover {\n",
              "    background-color: var(--hover-bg-color);\n",
              "    box-shadow: 0 1px 2px rgba(60, 64, 67, 0.3), 0 1px 3px 1px rgba(60, 64, 67, 0.15);\n",
              "    fill: var(--button-hover-fill-color);\n",
              "  }\n",
              "\n",
              "  .colab-df-quickchart-complete:disabled,\n",
              "  .colab-df-quickchart-complete:disabled:hover {\n",
              "    background-color: var(--disabled-bg-color);\n",
              "    fill: var(--disabled-fill-color);\n",
              "    box-shadow: none;\n",
              "  }\n",
              "\n",
              "  .colab-df-spinner {\n",
              "    border: 2px solid var(--fill-color);\n",
              "    border-color: transparent;\n",
              "    border-bottom-color: var(--fill-color);\n",
              "    animation:\n",
              "      spin 1s steps(1) infinite;\n",
              "  }\n",
              "\n",
              "  @keyframes spin {\n",
              "    0% {\n",
              "      border-color: transparent;\n",
              "      border-bottom-color: var(--fill-color);\n",
              "      border-left-color: var(--fill-color);\n",
              "    }\n",
              "    20% {\n",
              "      border-color: transparent;\n",
              "      border-left-color: var(--fill-color);\n",
              "      border-top-color: var(--fill-color);\n",
              "    }\n",
              "    30% {\n",
              "      border-color: transparent;\n",
              "      border-left-color: var(--fill-color);\n",
              "      border-top-color: var(--fill-color);\n",
              "      border-right-color: var(--fill-color);\n",
              "    }\n",
              "    40% {\n",
              "      border-color: transparent;\n",
              "      border-right-color: var(--fill-color);\n",
              "      border-top-color: var(--fill-color);\n",
              "    }\n",
              "    60% {\n",
              "      border-color: transparent;\n",
              "      border-right-color: var(--fill-color);\n",
              "    }\n",
              "    80% {\n",
              "      border-color: transparent;\n",
              "      border-right-color: var(--fill-color);\n",
              "      border-bottom-color: var(--fill-color);\n",
              "    }\n",
              "    90% {\n",
              "      border-color: transparent;\n",
              "      border-bottom-color: var(--fill-color);\n",
              "    }\n",
              "  }\n",
              "</style>\n",
              "\n",
              "  <script>\n",
              "    async function quickchart(key) {\n",
              "      const quickchartButtonEl =\n",
              "        document.querySelector('#' + key + ' button');\n",
              "      quickchartButtonEl.disabled = true;  // To prevent multiple clicks.\n",
              "      quickchartButtonEl.classList.add('colab-df-spinner');\n",
              "      try {\n",
              "        const charts = await google.colab.kernel.invokeFunction(\n",
              "            'suggestCharts', [key], {});\n",
              "      } catch (error) {\n",
              "        console.error('Error during call to suggestCharts:', error);\n",
              "      }\n",
              "      quickchartButtonEl.classList.remove('colab-df-spinner');\n",
              "      quickchartButtonEl.classList.add('colab-df-quickchart-complete');\n",
              "    }\n",
              "    (() => {\n",
              "      let quickchartButtonEl =\n",
              "        document.querySelector('#df-e82d1937-b199-41d8-8e5a-f7fd04a34b45 button');\n",
              "      quickchartButtonEl.style.display =\n",
              "        google.colab.kernel.accessAllowed ? 'block' : 'none';\n",
              "    })();\n",
              "  </script>\n",
              "</div>\n",
              "    </div>\n",
              "  </div>\n"
            ]
          },
          "metadata": {},
          "execution_count": 2
        }
      ]
    },
    {
      "cell_type": "code",
      "source": [
        "data.info()"
      ],
      "metadata": {
        "colab": {
          "base_uri": "https://localhost:8080/"
        },
        "id": "vHtkezh_J1U6",
        "outputId": "c5dd4070-c980-4b63-d954-7b907e45de0a"
      },
      "execution_count": null,
      "outputs": [
        {
          "output_type": "stream",
          "name": "stdout",
          "text": [
            "<class 'pandas.core.frame.DataFrame'>\n",
            "RangeIndex: 736 entries, 0 to 735\n",
            "Data columns (total 33 columns):\n",
            " #   Column                        Non-Null Count  Dtype  \n",
            "---  ------                        --------------  -----  \n",
            " 0   Timestamp                     736 non-null    object \n",
            " 1   Age                           735 non-null    float64\n",
            " 2   Primary streaming service     735 non-null    object \n",
            " 3   Hours per day                 736 non-null    float64\n",
            " 4   While working                 733 non-null    object \n",
            " 5   Instrumentalist               732 non-null    object \n",
            " 6   Composer                      735 non-null    object \n",
            " 7   Fav genre                     736 non-null    object \n",
            " 8   Exploratory                   736 non-null    object \n",
            " 9   Foreign languages             732 non-null    object \n",
            " 10  BPM                           629 non-null    float64\n",
            " 11  Frequency [Classical]         736 non-null    object \n",
            " 12  Frequency [Country]           736 non-null    object \n",
            " 13  Frequency [EDM]               736 non-null    object \n",
            " 14  Frequency [Folk]              736 non-null    object \n",
            " 15  Frequency [Gospel]            736 non-null    object \n",
            " 16  Frequency [Hip hop]           736 non-null    object \n",
            " 17  Frequency [Jazz]              736 non-null    object \n",
            " 18  Frequency [K pop]             736 non-null    object \n",
            " 19  Frequency [Latin]             736 non-null    object \n",
            " 20  Frequency [Lofi]              736 non-null    object \n",
            " 21  Frequency [Metal]             736 non-null    object \n",
            " 22  Frequency [Pop]               736 non-null    object \n",
            " 23  Frequency [R&B]               736 non-null    object \n",
            " 24  Frequency [Rap]               736 non-null    object \n",
            " 25  Frequency [Rock]              736 non-null    object \n",
            " 26  Frequency [Video game music]  736 non-null    object \n",
            " 27  Anxiety                       736 non-null    float64\n",
            " 28  Depression                    736 non-null    float64\n",
            " 29  Insomnia                      736 non-null    float64\n",
            " 30  OCD                           736 non-null    float64\n",
            " 31  Music effects                 728 non-null    object \n",
            " 32  Permissions                   736 non-null    object \n",
            "dtypes: float64(7), object(26)\n",
            "memory usage: 189.9+ KB\n"
          ]
        }
      ]
    },
    {
      "cell_type": "markdown",
      "source": [
        "##Data preprocessing"
      ],
      "metadata": {
        "id": "kWrNQ7YPknNu"
      }
    },
    {
      "cell_type": "markdown",
      "source": [
        "Data cleaning"
      ],
      "metadata": {
        "id": "vjzk9o5dr898"
      }
    },
    {
      "cell_type": "code",
      "source": [
        "# Drop unwanted columns\n",
        "data.drop(['Age','Timestamp','Permissions','Primary streaming service',\n",
        "           'While working', 'Instrumentalist', 'Composer','Exploratory',\n",
        "           'Foreign languages','Music effects','Frequency [Classical]', 'Frequency [Country]',\n",
        "       'Frequency [EDM]', 'Frequency [Folk]', 'Frequency [Gospel]',\n",
        "       'Frequency [Hip hop]', 'Frequency [Jazz]', 'Frequency [K pop]',\n",
        "       'Frequency [Latin]', 'Frequency [Lofi]', 'Frequency [Metal]',\n",
        "       'Frequency [Pop]', 'Frequency [R&B]', 'Frequency [Rap]',\n",
        "       'Frequency [Rock]', 'Frequency [Video game music]'], axis=1, inplace=True)"
      ],
      "metadata": {
        "id": "LRB2E2UFL7by"
      },
      "execution_count": null,
      "outputs": []
    },
    {
      "cell_type": "code",
      "source": [
        "# Check for null values\n",
        "data.isna().sum()"
      ],
      "metadata": {
        "colab": {
          "base_uri": "https://localhost:8080/"
        },
        "id": "nkD3k-IjsCev",
        "outputId": "3b5bca77-7fb9-4950-8d96-e9bd0e3a0f98"
      },
      "execution_count": null,
      "outputs": [
        {
          "output_type": "execute_result",
          "data": {
            "text/plain": [
              "Hours per day      0\n",
              "Fav genre          0\n",
              "BPM              107\n",
              "Anxiety            0\n",
              "Depression         0\n",
              "Insomnia           0\n",
              "OCD                0\n",
              "dtype: int64"
            ]
          },
          "metadata": {},
          "execution_count": 5
        }
      ]
    },
    {
      "cell_type": "code",
      "source": [
        "# Fill null values with mean\n",
        "data['BPM'].fillna(data['BPM'].mean(), inplace=True)\n",
        "\n",
        "# Check again for null values\n",
        "data.isna().sum()"
      ],
      "metadata": {
        "colab": {
          "base_uri": "https://localhost:8080/"
        },
        "id": "ZRtnJPegsND7",
        "outputId": "a0249757-3d72-4b78-bf3f-12174dc564f0"
      },
      "execution_count": null,
      "outputs": [
        {
          "output_type": "execute_result",
          "data": {
            "text/plain": [
              "Hours per day    0\n",
              "Fav genre        0\n",
              "BPM              0\n",
              "Anxiety          0\n",
              "Depression       0\n",
              "Insomnia         0\n",
              "OCD              0\n",
              "dtype: int64"
            ]
          },
          "metadata": {},
          "execution_count": 6
        }
      ]
    },
    {
      "cell_type": "code",
      "source": [
        "#Removing outliers\n",
        "data_index = data[data['BPM'] > 200].index\n",
        "data = data.drop(data_index, axis=0)"
      ],
      "metadata": {
        "id": "ykqrspqxIImr"
      },
      "execution_count": null,
      "outputs": []
    },
    {
      "cell_type": "markdown",
      "source": [
        "Encoding"
      ],
      "metadata": {
        "id": "7fKfyQ_AWNDL"
      }
    },
    {
      "cell_type": "code",
      "source": [
        "# Categorical columns\n",
        "data.select_dtypes(include=['object']).columns"
      ],
      "metadata": {
        "colab": {
          "base_uri": "https://localhost:8080/"
        },
        "id": "l36HTgtxEU_Q",
        "outputId": "b6ed7272-3e3e-474a-a015-75747e741653"
      },
      "execution_count": null,
      "outputs": [
        {
          "output_type": "execute_result",
          "data": {
            "text/plain": [
              "Index(['Fav genre'], dtype='object')"
            ]
          },
          "metadata": {},
          "execution_count": 8
        }
      ]
    },
    {
      "cell_type": "code",
      "source": [
        "# Convert values above 7.5 to True, and values 7.5 or below to False\n",
        "for column in ['Anxiety', 'Depression', 'Insomnia', 'OCD']:\n",
        "    data[column] = data[column] > 7.5"
      ],
      "metadata": {
        "id": "K-ZOzX0Ko5aJ"
      },
      "execution_count": null,
      "outputs": []
    },
    {
      "cell_type": "code",
      "source": [
        "# Encode 'Fav genre'\n",
        "columns = data['Fav genre']\n",
        "\n",
        "# Initialize the LabelEncoder\n",
        "label_encoder = LabelEncoder()\n",
        "\n",
        "# Fit and transform the 'Fav genre' column\n",
        "encoded_fav_genre = label_encoder.fit_transform(columns)\n",
        "\n",
        "# Create a mapping dictionary\n",
        "genre_mapping = dict(zip(label_encoder.classes_, label_encoder.transform(label_encoder.classes_)))\n",
        "\n",
        "# Update the 'Fav genre' column in the DataFrame with the encoded values\n",
        "data['Fav genre'] = encoded_fav_genre\n",
        "\n",
        "data.head()"
      ],
      "metadata": {
        "colab": {
          "base_uri": "https://localhost:8080/",
          "height": 206
        },
        "id": "Dewt6FsdVUm_",
        "outputId": "8f1cbe31-928d-4c33-a44d-b479103abf6a"
      },
      "execution_count": null,
      "outputs": [
        {
          "output_type": "execute_result",
          "data": {
            "text/plain": [
              "   Hours per day  Fav genre    BPM  Anxiety  Depression  Insomnia    OCD\n",
              "0            3.0          8  156.0    False       False     False  False\n",
              "1            1.5         14  119.0    False       False     False  False\n",
              "2            4.0         15  132.0    False       False      True  False\n",
              "3            2.5          6   84.0     True       False     False  False\n",
              "4            4.0         12  107.0    False       False     False   True"
            ],
            "text/html": [
              "\n",
              "  <div id=\"df-9161a13c-ba78-4787-8811-07daae73be84\" class=\"colab-df-container\">\n",
              "    <div>\n",
              "<style scoped>\n",
              "    .dataframe tbody tr th:only-of-type {\n",
              "        vertical-align: middle;\n",
              "    }\n",
              "\n",
              "    .dataframe tbody tr th {\n",
              "        vertical-align: top;\n",
              "    }\n",
              "\n",
              "    .dataframe thead th {\n",
              "        text-align: right;\n",
              "    }\n",
              "</style>\n",
              "<table border=\"1\" class=\"dataframe\">\n",
              "  <thead>\n",
              "    <tr style=\"text-align: right;\">\n",
              "      <th></th>\n",
              "      <th>Hours per day</th>\n",
              "      <th>Fav genre</th>\n",
              "      <th>BPM</th>\n",
              "      <th>Anxiety</th>\n",
              "      <th>Depression</th>\n",
              "      <th>Insomnia</th>\n",
              "      <th>OCD</th>\n",
              "    </tr>\n",
              "  </thead>\n",
              "  <tbody>\n",
              "    <tr>\n",
              "      <th>0</th>\n",
              "      <td>3.0</td>\n",
              "      <td>8</td>\n",
              "      <td>156.0</td>\n",
              "      <td>False</td>\n",
              "      <td>False</td>\n",
              "      <td>False</td>\n",
              "      <td>False</td>\n",
              "    </tr>\n",
              "    <tr>\n",
              "      <th>1</th>\n",
              "      <td>1.5</td>\n",
              "      <td>14</td>\n",
              "      <td>119.0</td>\n",
              "      <td>False</td>\n",
              "      <td>False</td>\n",
              "      <td>False</td>\n",
              "      <td>False</td>\n",
              "    </tr>\n",
              "    <tr>\n",
              "      <th>2</th>\n",
              "      <td>4.0</td>\n",
              "      <td>15</td>\n",
              "      <td>132.0</td>\n",
              "      <td>False</td>\n",
              "      <td>False</td>\n",
              "      <td>True</td>\n",
              "      <td>False</td>\n",
              "    </tr>\n",
              "    <tr>\n",
              "      <th>3</th>\n",
              "      <td>2.5</td>\n",
              "      <td>6</td>\n",
              "      <td>84.0</td>\n",
              "      <td>True</td>\n",
              "      <td>False</td>\n",
              "      <td>False</td>\n",
              "      <td>False</td>\n",
              "    </tr>\n",
              "    <tr>\n",
              "      <th>4</th>\n",
              "      <td>4.0</td>\n",
              "      <td>12</td>\n",
              "      <td>107.0</td>\n",
              "      <td>False</td>\n",
              "      <td>False</td>\n",
              "      <td>False</td>\n",
              "      <td>True</td>\n",
              "    </tr>\n",
              "  </tbody>\n",
              "</table>\n",
              "</div>\n",
              "    <div class=\"colab-df-buttons\">\n",
              "\n",
              "  <div class=\"colab-df-container\">\n",
              "    <button class=\"colab-df-convert\" onclick=\"convertToInteractive('df-9161a13c-ba78-4787-8811-07daae73be84')\"\n",
              "            title=\"Convert this dataframe to an interactive table.\"\n",
              "            style=\"display:none;\">\n",
              "\n",
              "  <svg xmlns=\"http://www.w3.org/2000/svg\" height=\"24px\" viewBox=\"0 -960 960 960\">\n",
              "    <path d=\"M120-120v-720h720v720H120Zm60-500h600v-160H180v160Zm220 220h160v-160H400v160Zm0 220h160v-160H400v160ZM180-400h160v-160H180v160Zm440 0h160v-160H620v160ZM180-180h160v-160H180v160Zm440 0h160v-160H620v160Z\"/>\n",
              "  </svg>\n",
              "    </button>\n",
              "\n",
              "  <style>\n",
              "    .colab-df-container {\n",
              "      display:flex;\n",
              "      gap: 12px;\n",
              "    }\n",
              "\n",
              "    .colab-df-convert {\n",
              "      background-color: #E8F0FE;\n",
              "      border: none;\n",
              "      border-radius: 50%;\n",
              "      cursor: pointer;\n",
              "      display: none;\n",
              "      fill: #1967D2;\n",
              "      height: 32px;\n",
              "      padding: 0 0 0 0;\n",
              "      width: 32px;\n",
              "    }\n",
              "\n",
              "    .colab-df-convert:hover {\n",
              "      background-color: #E2EBFA;\n",
              "      box-shadow: 0px 1px 2px rgba(60, 64, 67, 0.3), 0px 1px 3px 1px rgba(60, 64, 67, 0.15);\n",
              "      fill: #174EA6;\n",
              "    }\n",
              "\n",
              "    .colab-df-buttons div {\n",
              "      margin-bottom: 4px;\n",
              "    }\n",
              "\n",
              "    [theme=dark] .colab-df-convert {\n",
              "      background-color: #3B4455;\n",
              "      fill: #D2E3FC;\n",
              "    }\n",
              "\n",
              "    [theme=dark] .colab-df-convert:hover {\n",
              "      background-color: #434B5C;\n",
              "      box-shadow: 0px 1px 3px 1px rgba(0, 0, 0, 0.15);\n",
              "      filter: drop-shadow(0px 1px 2px rgba(0, 0, 0, 0.3));\n",
              "      fill: #FFFFFF;\n",
              "    }\n",
              "  </style>\n",
              "\n",
              "    <script>\n",
              "      const buttonEl =\n",
              "        document.querySelector('#df-9161a13c-ba78-4787-8811-07daae73be84 button.colab-df-convert');\n",
              "      buttonEl.style.display =\n",
              "        google.colab.kernel.accessAllowed ? 'block' : 'none';\n",
              "\n",
              "      async function convertToInteractive(key) {\n",
              "        const element = document.querySelector('#df-9161a13c-ba78-4787-8811-07daae73be84');\n",
              "        const dataTable =\n",
              "          await google.colab.kernel.invokeFunction('convertToInteractive',\n",
              "                                                    [key], {});\n",
              "        if (!dataTable) return;\n",
              "\n",
              "        const docLinkHtml = 'Like what you see? Visit the ' +\n",
              "          '<a target=\"_blank\" href=https://colab.research.google.com/notebooks/data_table.ipynb>data table notebook</a>'\n",
              "          + ' to learn more about interactive tables.';\n",
              "        element.innerHTML = '';\n",
              "        dataTable['output_type'] = 'display_data';\n",
              "        await google.colab.output.renderOutput(dataTable, element);\n",
              "        const docLink = document.createElement('div');\n",
              "        docLink.innerHTML = docLinkHtml;\n",
              "        element.appendChild(docLink);\n",
              "      }\n",
              "    </script>\n",
              "  </div>\n",
              "\n",
              "\n",
              "<div id=\"df-98add314-1473-4970-933b-e83ecb9b6a0a\">\n",
              "  <button class=\"colab-df-quickchart\" onclick=\"quickchart('df-98add314-1473-4970-933b-e83ecb9b6a0a')\"\n",
              "            title=\"Suggest charts\"\n",
              "            style=\"display:none;\">\n",
              "\n",
              "<svg xmlns=\"http://www.w3.org/2000/svg\" height=\"24px\"viewBox=\"0 0 24 24\"\n",
              "     width=\"24px\">\n",
              "    <g>\n",
              "        <path d=\"M19 3H5c-1.1 0-2 .9-2 2v14c0 1.1.9 2 2 2h14c1.1 0 2-.9 2-2V5c0-1.1-.9-2-2-2zM9 17H7v-7h2v7zm4 0h-2V7h2v10zm4 0h-2v-4h2v4z\"/>\n",
              "    </g>\n",
              "</svg>\n",
              "  </button>\n",
              "\n",
              "<style>\n",
              "  .colab-df-quickchart {\n",
              "      --bg-color: #E8F0FE;\n",
              "      --fill-color: #1967D2;\n",
              "      --hover-bg-color: #E2EBFA;\n",
              "      --hover-fill-color: #174EA6;\n",
              "      --disabled-fill-color: #AAA;\n",
              "      --disabled-bg-color: #DDD;\n",
              "  }\n",
              "\n",
              "  [theme=dark] .colab-df-quickchart {\n",
              "      --bg-color: #3B4455;\n",
              "      --fill-color: #D2E3FC;\n",
              "      --hover-bg-color: #434B5C;\n",
              "      --hover-fill-color: #FFFFFF;\n",
              "      --disabled-bg-color: #3B4455;\n",
              "      --disabled-fill-color: #666;\n",
              "  }\n",
              "\n",
              "  .colab-df-quickchart {\n",
              "    background-color: var(--bg-color);\n",
              "    border: none;\n",
              "    border-radius: 50%;\n",
              "    cursor: pointer;\n",
              "    display: none;\n",
              "    fill: var(--fill-color);\n",
              "    height: 32px;\n",
              "    padding: 0;\n",
              "    width: 32px;\n",
              "  }\n",
              "\n",
              "  .colab-df-quickchart:hover {\n",
              "    background-color: var(--hover-bg-color);\n",
              "    box-shadow: 0 1px 2px rgba(60, 64, 67, 0.3), 0 1px 3px 1px rgba(60, 64, 67, 0.15);\n",
              "    fill: var(--button-hover-fill-color);\n",
              "  }\n",
              "\n",
              "  .colab-df-quickchart-complete:disabled,\n",
              "  .colab-df-quickchart-complete:disabled:hover {\n",
              "    background-color: var(--disabled-bg-color);\n",
              "    fill: var(--disabled-fill-color);\n",
              "    box-shadow: none;\n",
              "  }\n",
              "\n",
              "  .colab-df-spinner {\n",
              "    border: 2px solid var(--fill-color);\n",
              "    border-color: transparent;\n",
              "    border-bottom-color: var(--fill-color);\n",
              "    animation:\n",
              "      spin 1s steps(1) infinite;\n",
              "  }\n",
              "\n",
              "  @keyframes spin {\n",
              "    0% {\n",
              "      border-color: transparent;\n",
              "      border-bottom-color: var(--fill-color);\n",
              "      border-left-color: var(--fill-color);\n",
              "    }\n",
              "    20% {\n",
              "      border-color: transparent;\n",
              "      border-left-color: var(--fill-color);\n",
              "      border-top-color: var(--fill-color);\n",
              "    }\n",
              "    30% {\n",
              "      border-color: transparent;\n",
              "      border-left-color: var(--fill-color);\n",
              "      border-top-color: var(--fill-color);\n",
              "      border-right-color: var(--fill-color);\n",
              "    }\n",
              "    40% {\n",
              "      border-color: transparent;\n",
              "      border-right-color: var(--fill-color);\n",
              "      border-top-color: var(--fill-color);\n",
              "    }\n",
              "    60% {\n",
              "      border-color: transparent;\n",
              "      border-right-color: var(--fill-color);\n",
              "    }\n",
              "    80% {\n",
              "      border-color: transparent;\n",
              "      border-right-color: var(--fill-color);\n",
              "      border-bottom-color: var(--fill-color);\n",
              "    }\n",
              "    90% {\n",
              "      border-color: transparent;\n",
              "      border-bottom-color: var(--fill-color);\n",
              "    }\n",
              "  }\n",
              "</style>\n",
              "\n",
              "  <script>\n",
              "    async function quickchart(key) {\n",
              "      const quickchartButtonEl =\n",
              "        document.querySelector('#' + key + ' button');\n",
              "      quickchartButtonEl.disabled = true;  // To prevent multiple clicks.\n",
              "      quickchartButtonEl.classList.add('colab-df-spinner');\n",
              "      try {\n",
              "        const charts = await google.colab.kernel.invokeFunction(\n",
              "            'suggestCharts', [key], {});\n",
              "      } catch (error) {\n",
              "        console.error('Error during call to suggestCharts:', error);\n",
              "      }\n",
              "      quickchartButtonEl.classList.remove('colab-df-spinner');\n",
              "      quickchartButtonEl.classList.add('colab-df-quickchart-complete');\n",
              "    }\n",
              "    (() => {\n",
              "      let quickchartButtonEl =\n",
              "        document.querySelector('#df-98add314-1473-4970-933b-e83ecb9b6a0a button');\n",
              "      quickchartButtonEl.style.display =\n",
              "        google.colab.kernel.accessAllowed ? 'block' : 'none';\n",
              "    })();\n",
              "  </script>\n",
              "</div>\n",
              "    </div>\n",
              "  </div>\n"
            ]
          },
          "metadata": {},
          "execution_count": 10
        }
      ]
    },
    {
      "cell_type": "markdown",
      "source": [
        "Correlation matrix"
      ],
      "metadata": {
        "id": "CEiPr4nSLA2t"
      }
    },
    {
      "cell_type": "code",
      "source": [
        "# showing correlation matrix\n",
        "columns_to_correlate = ['Hours per day', 'BPM', 'Fav genre','OCD', 'Depression', 'Anxiety', 'Insomnia']\n",
        "\n",
        "correlation_data = data[columns_to_correlate]\n",
        "\n",
        "# Create heatmap\n",
        "sns.heatmap(correlation_data.corr())"
      ],
      "metadata": {
        "colab": {
          "base_uri": "https://localhost:8080/",
          "height": 536
        },
        "id": "VvugW8nGc23l",
        "outputId": "3efc89bf-79aa-4476-b3c3-ab32fdd1eb6a"
      },
      "execution_count": null,
      "outputs": [
        {
          "output_type": "execute_result",
          "data": {
            "text/plain": [
              "<Axes: >"
            ]
          },
          "metadata": {},
          "execution_count": 11
        },
        {
          "output_type": "display_data",
          "data": {
            "text/plain": [
              "<Figure size 640x480 with 2 Axes>"
            ],
            "image/png": "[encoded data removed]"
          },
          "metadata": {}
        }
      ]
    },
    {
      "cell_type": "code",
      "source": [
        "# Checking the classes in our target variables\n",
        "columns = ['Anxiety','Depression', 'Insomnia', 'OCD']\n",
        "for column in columns:\n",
        "    print(f\"Column: {column}\")\n",
        "    print(data[column].value_counts())\n",
        "    print(\"\\n\")\n",
        "\n",
        "# Class imbalance, need to customise class weight"
      ],
      "metadata": {
        "colab": {
          "base_uri": "https://localhost:8080/"
        },
        "id": "fBNMaJY2i1dj",
        "outputId": "975cbd9e-959a-47af-b020-ce53737334ae"
      },
      "execution_count": null,
      "outputs": [
        {
          "output_type": "stream",
          "name": "stdout",
          "text": [
            "Column: Anxiety\n",
            "False    417\n",
            "True     203\n",
            "Name: Anxiety, dtype: int64\n",
            "\n",
            "\n",
            "Column: Depression\n",
            "False    482\n",
            "True     138\n",
            "Name: Depression, dtype: int64\n",
            "\n",
            "\n",
            "Column: Insomnia\n",
            "False    523\n",
            "True      97\n",
            "Name: Insomnia, dtype: int64\n",
            "\n",
            "\n",
            "Column: OCD\n",
            "False    566\n",
            "True      54\n",
            "Name: OCD, dtype: int64\n",
            "\n",
            "\n"
          ]
        }
      ]
    },
    {
      "cell_type": "markdown",
      "metadata": {
        "id": "9VxAgkNkEZ3i"
      },
      "source": [
        "Data Normalization"
      ]
    },
    {
      "cell_type": "code",
      "source": [
        "# Normalise using z-score\n",
        "scaler = StandardScaler()\n",
        "scaler.fit_transform(data)\n",
        "\n",
        "print(data.head())"
      ],
      "metadata": {
        "colab": {
          "base_uri": "https://localhost:8080/"
        },
        "id": "rD12Y_V6rTZR",
        "outputId": "bc128214-31cb-43b9-a100-003146df5233"
      },
      "execution_count": null,
      "outputs": [
        {
          "output_type": "stream",
          "name": "stdout",
          "text": [
            "   Hours per day  Fav genre    BPM  Anxiety  Depression  Insomnia    OCD\n",
            "0            3.0          8  156.0    False       False     False  False\n",
            "1            1.5         14  119.0    False       False     False  False\n",
            "2            4.0         15  132.0    False       False      True  False\n",
            "3            2.5          6   84.0     True       False     False  False\n",
            "4            4.0         12  107.0    False       False     False   True\n"
          ]
        }
      ]
    },
    {
      "cell_type": "markdown",
      "source": [
        "Splitting data"
      ],
      "metadata": {
        "id": "GIDe1COjkRwE"
      }
    },
    {
      "cell_type": "code",
      "execution_count": null,
      "metadata": {
        "id": "37qOGK6VeNhK"
      },
      "outputs": [],
      "source": [
        "# Split the data into features and target variable\n",
        "\n",
        "X = data[['Hours per day','Fav genre', 'BPM']]\n",
        "y = data[['Anxiety','Depression', 'Insomnia', 'OCD']]\n",
        "\n",
        "X_train, X_test, y_train, y_test = train_test_split(X, y, test_size=0.2, random_state=42)\n"
      ]
    },
    {
      "cell_type": "markdown",
      "metadata": {
        "id": "-T8hqBHPEton"
      },
      "source": [
        "##Model Building and Evaluation"
      ]
    },
    {
      "cell_type": "code",
      "source": [
        "# Using Random forest classifier\n",
        "\n",
        "# Custom class weights\n",
        "class_weights = {0: 1, 1: 2}\n",
        "\n",
        "# Create Random Forest Classifier with 100 trees\n",
        "rf = RandomForestClassifier(n_estimators=100, random_state=42, class_weight=class_weights, max_depth=None)\n",
        "\n",
        "ensemble_models = {}\n",
        "for var in y.columns:\n",
        "\n",
        "    # Fit the model to training data\n",
        "    rf.fit(X_train, y_train[var])\n",
        "\n",
        "    # Store the trained model in the dictionary\n",
        "    ensemble_models[var] = rf\n",
        "\n",
        "    # Save model into pickle file\n",
        "    model_filename = f\"{var}.pkl\"\n",
        "    with open(model_filename, 'wb') as model_file:\n",
        "        pickle.dump(rf, model_file)\n",
        "\n",
        "    # Make predictions on the test set for the specific mental health condition\n",
        "    y_pred = rf.predict(X_test)\n",
        "\n",
        "    # Evaluate performance\n",
        "    print(f\"Classification Report for {var}:\\n\")\n",
        "    print(classification_report(y_test[var], y_pred))\n",
        "    print(f\"Accuracy for {var}: \")\n",
        "    print(accuracy_score(y_test[var], y_pred),\"\\n\")\n"
      ],
      "metadata": {
        "id": "H5nedtgWMUCJ",
        "colab": {
          "base_uri": "https://localhost:8080/"
        },
        "outputId": "d0a87943-a09b-4b37-9dc0-7505b3dd1617"
      },
      "execution_count": null,
      "outputs": [
        {
          "output_type": "stream",
          "name": "stdout",
          "text": [
            "Classification Report for Anxiety:\n",
            "\n",
            "              precision    recall  f1-score   support\n",
            "\n",
            "       False       0.72      0.74      0.73        86\n",
            "        True       0.37      0.34      0.36        38\n",
            "\n",
            "    accuracy                           0.62       124\n",
            "   macro avg       0.55      0.54      0.54       124\n",
            "weighted avg       0.61      0.62      0.62       124\n",
            "\n",
            "Accuracy for Anxiety: \n",
            "0.6209677419354839 \n",
            "\n",
            "Classification Report for Depression:\n",
            "\n",
            "              precision    recall  f1-score   support\n",
            "\n",
            "       False       0.75      0.91      0.83        93\n",
            "        True       0.27      0.10      0.14        31\n",
            "\n",
            "    accuracy                           0.71       124\n",
            "   macro avg       0.51      0.51      0.48       124\n",
            "weighted avg       0.63      0.71      0.65       124\n",
            "\n",
            "Accuracy for Depression: \n",
            "0.7096774193548387 \n",
            "\n",
            "Classification Report for Insomnia:\n",
            "\n",
            "              precision    recall  f1-score   support\n",
            "\n",
            "       False       0.87      0.93      0.90       106\n",
            "        True       0.30      0.17      0.21        18\n",
            "\n",
            "    accuracy                           0.82       124\n",
            "   macro avg       0.58      0.55      0.56       124\n",
            "weighted avg       0.79      0.82      0.80       124\n",
            "\n",
            "Accuracy for Insomnia: \n",
            "0.8225806451612904 \n",
            "\n",
            "Classification Report for OCD:\n",
            "\n",
            "              precision    recall  f1-score   support\n",
            "\n",
            "       False       0.95      0.96      0.95       117\n",
            "        True       0.17      0.14      0.15         7\n",
            "\n",
            "    accuracy                           0.91       124\n",
            "   macro avg       0.56      0.55      0.55       124\n",
            "weighted avg       0.90      0.91      0.91       124\n",
            "\n",
            "Accuracy for OCD: \n",
            "0.9112903225806451 \n",
            "\n"
          ]
        }
      ]
    },
    {
      "cell_type": "markdown",
      "source": [
        "##Deploying model"
      ],
      "metadata": {
        "id": "s584djXMlPnX"
      }
    },
    {
      "cell_type": "code",
      "source": [
        "# Loading the model pickle files\n",
        "ocdModel = pickle.load(open(\"OCD.pkl\", 'rb'))\n",
        "insomniaModel = pickle.load(open(\"Insomnia.pkl\", 'rb'))\n",
        "anxietyModel = pickle.load(open(\"Anxiety.pkl\", 'rb'))\n",
        "depressionModel = pickle.load(open(\"Depression.pkl\", 'rb'))"
      ],
      "metadata": {
        "id": "W9JMfLWjmj8t"
      },
      "execution_count": null,
      "outputs": []
    },
    {
      "cell_type": "markdown",
      "source": [
        "Predict"
      ],
      "metadata": {
        "id": "T9snAIUZOokv"
      }
    },
    {
      "cell_type": "code",
      "source": [
        "# Input new data to predict\n",
        "new_data = pd.DataFrame({\n",
        "    'Hours per day': [5],      #insert input here\n",
        "    'Fav genre': ['Rock'],   #insert input here\n",
        "    'BPM': [90]                 #insert input here\n",
        "})\n",
        "\n",
        "# Map the string values to encoded integers using the genre_mapping\n",
        "new_data['Fav genre'] = new_data['Fav genre'].map(genre_mapping)\n",
        "\n",
        "# Predict\n",
        "o = ocdModel.predict(new_data)\n",
        "i = insomniaModel.predict(new_data)\n",
        "a = anxietyModel.predict(new_data)\n",
        "d = depressionModel.predict(new_data)\n",
        "\n",
        "# Results\n",
        "print('OCD:',o)\n",
        "print('Insomnia:',i)\n",
        "print('Anxiety:',a)\n",
        "print('Depression:',d)"
      ],
      "metadata": {
        "colab": {
          "base_uri": "https://localhost:8080/"
        },
        "id": "XiiEcU13cOns",
        "outputId": "0919845d-df87-47d3-99ef-ce12ad9b63bd"
      },
      "execution_count": null,
      "outputs": [
        {
          "output_type": "stream",
          "name": "stdout",
          "text": [
            "OCD: [False]\n",
            "Insomnia: [False]\n",
            "Anxiety: [ True]\n",
            "Depression: [False]\n"
          ]
        }
      ]
    }
  ],
  "metadata": {
    "colab": {
      "provenance": []
    },
    "kernelspec": {
      "display_name": "Python 3",
      "name": "python3"
    },
    "language_info": {
      "codemirror_mode": {
        "name": "ipython",
        "version": 3
      },
      "file_extension": ".py",
      "mimetype": "text/x-python",
      "name": "python",
      "nbconvert_exporter": "python",
      "pygments_lexer": "ipython3",
      "version": "3.11.3"
    }
  },
  "nbformat": 4,
  "nbformat_minor": 0
}